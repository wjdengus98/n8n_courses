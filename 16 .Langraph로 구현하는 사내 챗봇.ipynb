{
 "cells": [
  {
   "cell_type": "code",
   "execution_count": 1,
   "metadata": {},
   "outputs": [
    {
     "data": {
      "text/plain": [
       "True"
      ]
     },
     "execution_count": 1,
     "metadata": {},
     "output_type": "execute_result"
    }
   ],
   "source": [
    "from dotenv import load_dotenv\n",
    "load_dotenv() # OPEN_API_KEY, PINECONE_API_KEY"
   ]
  },
  {
   "cell_type": "code",
   "execution_count": 2,
   "metadata": {},
   "outputs": [
    {
     "name": "stderr",
     "output_type": "stream",
     "text": [
      "c:\\Users\\user\\inflearn\\agent-use-cases\\.venv\\Lib\\site-packages\\tqdm\\auto.py:21: TqdmWarning: IProgress not found. Please update jupyter and ipywidgets. See https://ipywidgets.readthedocs.io/en/stable/user_install.html\n",
      "  from .autonotebook import tqdm as notebook_tqdm\n",
      "c:\\Users\\user\\inflearn\\agent-use-cases\\.venv\\Lib\\site-packages\\langchain_pinecone\\__init__.py:3: LangChainDeprecationWarning: As of langchain-core 0.3.0, LangChain uses pydantic v2 internally. The langchain_core.pydantic_v1 module was a compatibility shim for pydantic v1, and should no longer be used. Please update the code to import from Pydantic directly.\n",
      "\n",
      "For example, replace imports like: `from langchain_core.pydantic_v1 import BaseModel`\n",
      "with: `from pydantic import BaseModel`\n",
      "or the v1 compatibility namespace if you are working in a code base that has not been fully upgraded to pydantic 2 yet. \tfrom pydantic.v1 import BaseModel\n",
      "\n",
      "  from langchain_pinecone.vectorstores import Pinecone, PineconeVectorStore\n"
     ]
    }
   ],
   "source": [
    "from langchain_openai import ChatOpenAI, OpenAIEmbeddings\n",
    "\n",
    "llm = ChatOpenAI(model=\"gpt-4.1\", temperature=0)\n",
    "small_llm = ChatOpenAI(model=\"gpt-4.1-mini\", temperature=0)\n",
    "embeddings = OpenAIEmbeddings(model=\"text-embedding-3-large\")\n",
    "\n",
    "from langchain_pinecone import PineconeVectorStore\n",
    "vector_store = PineconeVectorStore(\n",
    "    index_name = \"inhouse-python-index\",\n",
    "    embedding = embeddings,\n",
    ")\n",
    "retriver = vector_store.as_retriever()"
   ]
  },
  {
   "cell_type": "markdown",
   "metadata": {},
   "source": [
    "# LangGraph 개요\n",
    "\n",
    "랭그래프(LangGraph)는 LangChain 팀에서 만든 라이브러리인데, LLM 기반 애플리케이션을 **그래프 구조**로 만들 수 있게 해주는 도구예요.\n",
    "\n",
    "## 핵심 개념\n",
    "\n",
    "**상태 기반 그래프**로 동작해요. 노드(node)와 엣지(edge)로 구성되는데:\n",
    "\n",
    "- **노드**: 각 처리 단계 (LLM 호출, 도구 실행, 데이터 변환 등)\n",
    "- **엣지**: 노드 간의 연결 (조건부 분기 가능)\n",
    "- **상태**: 그래프를 통해 전달되는 데이터\n",
    "\n",
    "## 왜 유용한가?\n",
    "\n",
    "기존 LangChain의 체인(Chain)은 선형적이라 복잡한 로직을 구현하기 어려웠어요. 랭그래프는:\n",
    "\n",
    "- **순환 구조** 가능 (반복, 루프)\n",
    "- **조건부 분기** 쉽게 구현\n",
    "- **에이전트 워크플로우** 명확하게 표현\n",
    "- **상태 관리**가 직관적"
   ]
  },
  {
   "cell_type": "code",
   "execution_count": 3,
   "metadata": {},
   "outputs": [],
   "source": [
    "from typing_extensions import TypedDict\n",
    "from langgraph.graph import StateGraph\n",
    "from langchain_core.documents import Document\n",
    "\n",
    "class AgentState(TypedDict):\n",
    "    question: str\n",
    "    answer: str\n",
    "    context: list[Document]\n",
    "    document_name:str\n",
    "    is_in_faq: bool\n",
    "\n",
    "graph_builder = StateGraph(AgentState) # 그래프 빌더 생성"
   ]
  },
  {
   "cell_type": "code",
   "execution_count": 4,
   "metadata": {},
   "outputs": [],
   "source": [
    "from langchain_core.prompts import ChatPromptTemplate \n",
    "from langchain_core.output_parsers import StrOutputParser\n",
    "\n",
    "\n",
    "def check_faq(state: AgentState) -> AgentState:\n",
    "    question = state['question']\n",
    "    context = retriver.invoke(question, filter={\"source\": \"employee_benefits_and_welfare_faq\"})\n",
    "    check_faq_prompt = ChatPromptTemplate.from_messages([\n",
    "        (\"system\", \"\"\"You are a helpful assistant that checks if the question is in the FAQ. \n",
    "If the question is in the FAQ, return 'Yes'. Otherwise, return 'No'.\"\"\"),\n",
    "        (\"user\", \"Question: {question}\\nContext: {context}\"),\n",
    "    ])\n",
    "    check_faq_chain = check_faq_prompt | llm | StrOutputParser()\n",
    "    is_in_faq = check_faq_chain.invoke({\"question\": question, \"context\": context})\n",
    "    return {\"is_in_faq\": is_in_faq == \"Yes\", \"context\": context if is_in_faq == \"Yes\" else []}"
   ]
  },
  {
   "cell_type": "code",
   "execution_count": 5,
   "metadata": {},
   "outputs": [],
   "source": [
    "def get_document_name(state: AgentState) -> AgentState:\n",
    "    determine_document_prompt = ChatPromptTemplate.from_messages(\n",
    "    [\n",
    "        (\"system\", \"\"\"You are a helpful assistant that determines the most relevant document name based on the user's question. \n",
    "Choose from the following document names:\n",
    "- delegation_of_authority\n",
    "- employee_benefits_and_welfare_faq\n",
    "- employee_benefits_and_welfare_guide\n",
    "- employee_handbook_and_hr_policy\n",
    "- expense_management_guide\n",
    "- it_support_guide\n",
    "- legal_and_compliance_policy\n",
    "\n",
    "Return ONLY the document name (e.g., 'it_support_guide').\n",
    "\n",
    "Examples:\n",
    "- If the question is about who can approve expenses, return 'delegation_of_authority' or 'expense_management_guide' as appropriate.\n",
    "- If the question is about employee benefits, return 'employee_benefits_and_welfare_guide'.\n",
    "- If the question is about HR policies or the employee handbook, return 'employee_handbook_and_hr_policy'.\n",
    "- If the question is about IT support or technical issues, return 'it_support_guide'.\n",
    "- If the question is about legal or compliance matters, return 'legal_and_compliance_policy'.\n",
    "- If the question is a frequently asked question about benefits, return 'employee_benefits_and_welfare_faq'.\n",
    "\"\"\"),\n",
    "        (\"user\", \"Question: {question}\"),\n",
    "    ]\n",
    ")\n",
    "    question = state['question']\n",
    "    determine_document_chain = determine_document_prompt | small_llm | StrOutputParser()\n",
    "    document_name = determine_document_chain.invoke({\"question\": question})\n",
    "    return {\"document_name\": document_name}"
   ]
  },
  {
   "cell_type": "code",
   "execution_count": 6,
   "metadata": {},
   "outputs": [],
   "source": [
    "def retrieve_document(state: AgentState) -> AgentState:\n",
    "    question = state['question']\n",
    "    document_name = state['document_name']\n",
    "    context = retriver.invoke(question, filter={\"source\": document_name})\n",
    "    return {\"context\": context}"
   ]
  },
  {
   "cell_type": "code",
   "execution_count": 7,
   "metadata": {},
   "outputs": [],
   "source": [
    "def generate_answer(state: AgentState) -> AgentState:\n",
    "    question = state['question']\n",
    "    context = state['context']\n",
    "    generate_answer_prompt = ChatPromptTemplate.from_messages([\n",
    "        (\"system\", \"\"\"You are a helpful assistant that generates an answer to the user's question based on the context.\n",
    "        \"\"\"),\n",
    "        (\"user\", \"Question: {question}\\nContext: {context}\"),\n",
    "    ])\n",
    "    generate_answer_chain = generate_answer_prompt | llm | StrOutputParser()\n",
    "    answer = generate_answer_chain.invoke({\"question\": question, \"context\": context})\n",
    "    return {\"answer\": answer}"
   ]
  },
  {
   "cell_type": "code",
   "execution_count": 8,
   "metadata": {},
   "outputs": [],
   "source": [
    "from typing import Literal\n",
    "\n",
    "def check_if_in_faq(state: AgentState) -> Literal[\"generate_answer\", \"get_document_name\"]:\n",
    "    is_in_faq = state['is_in_faq']\n",
    "    if is_in_faq:\n",
    "        return \"generate_answer\"\n",
    "    else:\n",
    "        return \"get_document_name\""
   ]
  },
  {
   "cell_type": "code",
   "execution_count": 9,
   "metadata": {},
   "outputs": [],
   "source": [
    "from langgraph.graph import START, END\n",
    "\n",
    "graph_builder.add_node(check_faq)\n",
    "graph_builder.add_node(get_document_name)\n",
    "graph_builder.add_node(retrieve_document)\n",
    "graph_builder.add_node(generate_answer)\n",
    "\n",
    "graph_builder.add_edge(START, \"check_faq\")\n",
    "graph_builder.add_conditional_edges(\"check_faq\", check_if_in_faq)\n",
    "graph_builder.add_edge(\"get_document_name\", \"retrieve_document\")\n",
    "graph_builder.add_edge(\"retrieve_document\", \"generate_answer\")\n",
    "graph_builder.add_edge(\"generate_answer\", END)\n",
    "\n",
    "graph = graph_builder.compile()"
   ]
  },
  {
   "cell_type": "code",
   "execution_count": 10,
   "metadata": {},
   "outputs": [
    {
     "data": {
      "image/png": "[encoded data removed]",
      "text/plain": [
       "<langgraph.graph.state.CompiledStateGraph object at 0x0000023A6F29AD50>"
      ]
     },
     "execution_count": 10,
     "metadata": {},
     "output_type": "execute_result"
    }
   ],
   "source": [
    "graph"
   ]
  },
  {
   "cell_type": "code",
   "execution_count": 11,
   "metadata": {},
   "outputs": [
    {
     "data": {
      "text/plain": [
       "{'question': '사내 네트워크 담당자는 누구인가요?',\n",
       " 'answer': '사내 네트워크 담당자는 김영수 (IT 네트워크 관리자)입니다.  \\n이메일: kimys@company.com  \\n전화번호: 02-1234-5680',\n",
       " 'context': [Document(id='236ad967-f25a-4155-86e4-1978bdb586a5', metadata={'chapter': '제 1 장 IT 지원 기본 정책', 'section': '제 3 조 (IT 지원 담당자)', 'source': 'it_support_guide', 'title': 'IT 지원 가이드'}, page_content='- **네트워크 지원**\\n- 담당자: 김영수 (IT 네트워크 관리자)\\n- 이메일: kimys@company.com\\n- 전화번호: 02-1234-5680\\n- **계정 관리 및 보안**\\n- 담당자: 이민정 (보안 관리자)\\n- 이메일: leemj@company.com\\n- 전화번호: 02-1234-5681\\n- **소프트웨어 및 시스템 유지보수**\\n- 담당자: 박성호 (IT 시스템 관리자)\\n- 이메일: parksh@company.com\\n- 전화번호: 02-1234-5682  \\n---'),\n",
       "  Document(id='9538a8ee-49ce-4a3e-b1e1-633518b0de65', metadata={'chapter': '제 3장 네트워크 및 VPN 접속', 'section': '제 6조 (사내 네트워크 접속)', 'source': 'it_support_guide', 'title': 'IT 지원 가이드'}, page_content='- 모든 사내 네트워크 접속은 인증된 사용자 계정으로만 가능하다.\\n- 외부 접속 시 VPN 사용이 필수이다.\\n- VPN 계정은 IT 지원팀을 통해 신청할 수 있다.'),\n",
       "  Document(id='4eb75233-5345-4689-bffe-bcc0924ccd7d', metadata={'chapter': '제 12조 (데이터 보호)', 'source': 'it_support_guide', 'title': '제 6장 데이터 보안'}, page_content='- 모든 회사 데이터는 사내 서버 또는 클라우드에 안전하게 저장한다.\\n- 민감한 데이터는 암호화하여 저장한다.\\n- 기밀 자료는 사내 네트워크에서만 접근 가능하도록 설정한다.'),\n",
       "  Document(id='8977c306-8b57-40e0-b106-aa015714de13', metadata={'chapter': '제 3장 네트워크 및 VPN 접속', 'section': '제 7조 (VPN 접속 오류 해결)', 'source': 'it_support_guide', 'title': 'IT 지원 가이드'}, page_content='- VPN 접속 불가 시 네트워크 상태 확인\\n- VPN 클라이언트 최신 버전 설치 확인\\n- 오류 지속 시 IT 지원팀에 문의')],\n",
       " 'document_name': 'it_support_guide',\n",
       " 'is_in_faq': False}"
      ]
     },
     "execution_count": 11,
     "metadata": {},
     "output_type": "execute_result"
    }
   ],
   "source": [
    "graph.invoke({\"question\": \"사내 네트워크 담당자는 누구인가요?\"})"
   ]
  },
  {
   "cell_type": "code",
   "execution_count": 13,
   "metadata": {},
   "outputs": [
    {
     "data": {
      "text/plain": [
       "{'question': '출산휴가는 얼마나 보장되나요?',\n",
       " 'answer': '출산휴가는 얼마나 보장되나요?\\n\\n출산휴가는 출산 예정일 전후로 자유롭게 사용할 수 있으며, 최대 20일 유급으로 보장됩니다. 즉, 출산 전이나 출산 후 원하는 시기에 사용할 수 있고, 이 기간 동안 급여가 지급됩니다. 추가 문의가 있으시면 HR 담당자에게 연락하실 수 있습니다.',\n",
       " 'context': [Document(id='20dbac37-458b-4e16-ae5a-9589defdfbe3', metadata={'chapter': '2. 출산 및 육아 휴가 관련', 'source': 'employee_benefits_and_welfare_faq', 'title': '직원 복리후생 및 복지 FAQ'}, page_content='**Q4: 출산 휴가는 언제부터 사용할 수 있나요?**\\n- A: 출산 예정일 전후로 자유롭게 사용할 수 있으며, 최대 20일 유급으로 제공됩니다.  \\n**Q5: 육아 휴가는 누구에게 적용되나요?**\\n- A: 모든 직원이 신청할 수 있으며, 최대 1년까지 사용할 수 있으며, 첫 3개월은 급여의 50%가 지급됩니다.  \\n---'),\n",
       "  Document(id='322cd6f0-215d-4dac-af1d-7186c9bad066', metadata={'chapter': '3. 경조 휴가 및 지원', 'source': 'employee_benefits_and_welfare_faq', 'title': '직원 복리후생 및 복지 FAQ'}, page_content='**Q6: 경조 휴가는 어떤 경우에 사용할 수 있나요?**\\n- A: 본인 결혼, 자녀 출생, 부모/배우자 사망 등 경조사 사유에 따라 휴가가 부여됩니다.  \\n**Q7: 경조사 지원금은 어떻게 신청하나요?**\\n- A: HR 시스템을 통해 신청할 수 있으며, 지원금은 지정된 계좌로 지급됩니다.  \\n---'),\n",
       "  Document(id='785026b1-46f1-49ca-8910-c7bbbcf985b0', metadata={'chapter': '1. 연차 유급 휴가 관련', 'source': 'employee_benefits_and_welfare_faq', 'title': '직원 복리후생 및 복지 FAQ'}, page_content='**Q1: 연차 휴가는 어떻게 사용하나요?**\\n- A: 연차 휴가는 본인 승인을 통해 자유롭게 사용할 수 있으며, 사내 HR 시스템에서 신청 가능합니다.  \\n**Q2: 연차는 어떻게 계산되나요?**\\n- A: 근속 연수에 따라 차등 지급되며, 1년 미만은 월 1일, 1~3년은 15일, 10년 이상은 20일입니다.  \\n**Q3: 미사용 연차는 어떻게 처리되나요?**\\n- A: 연차는 해당 연도에 사용해야 하며, 이월은 불가합니다.  \\n---'),\n",
       "  Document(id='c658264a-a07e-4300-bc15-b918bfceba8d', metadata={'chapter': '3. 경조 휴가 및 지원', 'section': '7. 문의 및 기타', 'source': 'employee_benefits_and_welfare_faq', 'title': '직원 복리후생 및 복지 FAQ'}, page_content='**Q14: 복리후생 관련 문의는 어디로 하면 되나요?**\\n- A: HR 담당자 김지현 (이메일: kimjh@company.com, 전화번호: 02-1234-5678)에게 문의 가능합니다.')],\n",
       " 'is_in_faq': True}"
      ]
     },
     "execution_count": 13,
     "metadata": {},
     "output_type": "execute_result"
    }
   ],
   "source": [
    "graph.invoke({\"question\": \"출산휴가는 얼마나 보장되나요?\"})"
   ]
  }
 ],
 "metadata": {
  "kernelspec": {
   "display_name": ".venv",
   "language": "python",
   "name": "python3"
  },
  "language_info": {
   "codemirror_mode": {
    "name": "ipython",
    "version": 3
   },
   "file_extension": ".py",
   "mimetype": "text/x-python",
   "name": "python",
   "nbconvert_exporter": "python",
   "pygments_lexer": "ipython3",
   "version": "3.12.2"
  }
 },
 "nbformat": 4,
 "nbformat_minor": 2
}
