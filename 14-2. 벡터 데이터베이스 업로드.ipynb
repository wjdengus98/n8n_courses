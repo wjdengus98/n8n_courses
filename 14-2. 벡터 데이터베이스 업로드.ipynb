{
 "cells": [
  {
   "cell_type": "code",
   "execution_count": 1,
   "metadata": {},
   "outputs": [],
   "source": [
    "from langchain_text_splitters import MarkdownHeaderTextSplitter\n",
    "\n",
    "headers_to_split_on = [\n",
    "    (\"#\", \"title\"),    \n",
    "    (\"##\", \"chapter\"),    \n",
    "    (\"###\", \"section\"),   \n",
    "]\n",
    "\n",
    "markdown_splitter = MarkdownHeaderTextSplitter(headers_to_split_on)"
   ]
  },
  {
   "cell_type": "code",
   "execution_count": 3,
   "metadata": {},
   "outputs": [],
   "source": [
    "from dotenv import load_dotenv\n",
    "from langchain_pinecone import PineconeVectorStore\n",
    "from langchain_openai import OpenAIEmbeddings\n",
    "\n",
    "load_dotenv()\n",
    "\n",
    "embeddings = OpenAIEmbeddings(model = \"text-embedding-3-large\")\n",
    "index_name = \"inhouse-python-index\"\n",
    "\n",
    "vector_store = PineconeVectorStore(index_name=index_name, embedding=embeddings)"
   ]
  },
  {
   "cell_type": "code",
   "execution_count": 4,
   "metadata": {},
   "outputs": [],
   "source": [
    "import os\n",
    "input_dir = './output'\n",
    "\n",
    "for filename in os.listdir(input_dir):\n",
    "    if filename.endswith('.md'):\n",
    "        md_path = os.path.join(input_dir, filename)\n",
    "        with open(os.path.join(input_dir, filename), 'r', encoding='utf-8') as f:\n",
    "            markdown_text = f.read()\n",
    "        \n",
    "        docs = markdown_splitter.split_text(markdown_text)\n",
    "        for doc in docs:\n",
    "            \n",
    "            doc.metadata['source'] = filename.replace('.md','')\n",
    "        vector_store.add_documents(docs)\n",
    "            \n"
   ]
  },
  {
   "cell_type": "code",
   "execution_count": 5,
   "metadata": {},
   "outputs": [],
   "source": [
    "retriver = vector_store.as_retriever()"
   ]
  },
  {
   "cell_type": "code",
   "execution_count": 6,
   "metadata": {},
   "outputs": [
    {
     "data": {
      "text/plain": [
       "[Document(id='322cd6f0-215d-4dac-af1d-7186c9bad066', metadata={'chapter': '3. 경조 휴가 및 지원', 'source': 'employee_benefits_and_welfare_faq', 'title': '직원 복리후생 및 복지 FAQ'}, page_content='**Q6: 경조 휴가는 어떤 경우에 사용할 수 있나요?**\\n- A: 본인 결혼, 자녀 출생, 부모/배우자 사망 등 경조사 사유에 따라 휴가가 부여됩니다.  \\n**Q7: 경조사 지원금은 어떻게 신청하나요?**\\n- A: HR 시스템을 통해 신청할 수 있으며, 지원금은 지정된 계좌로 지급됩니다.  \\n---'),\n",
       " Document(id='64d81f81-c5eb-4a5d-a8fd-4ef79c4e6095', metadata={'chapter': '제 3장 근로 시간 및 휴가', 'section': '제 6조 (근로 시간)', 'source': 'employee_handbook_and_hr_policy', 'title': '직원 핸드북 및 인사 정책'}, page_content='- 기본 근무 시간: 월요일~금요일, 오전 9시 ~ 오후 6시\\n- 점심 시간: 오후 12시 ~ 오후 1시\\n- 유연 근무제 가능 (사전 승인 필요)  \\n제 7조 (지각, 결근)\\n- 지각: 정해진 근무 시간 이후 도착할 경우\\n- 결근: 사전 승인 없이 출근하지 않는 경우\\n- 3회 지각 시 1회 결근으로 처리  \\n제 8조 (연차 유급 휴가)\\n- 연차 유급 휴가는 근속 연수에 따라 자동 지급한다.\\n- 연차 휴가 지급 기준:  \\n| 근속 연수 | 연차 휴가 일수 |\\n|------------|----------------|\\n| 1년 미만   | 월 1일         |\\n| 1~3년      | 15일          |\\n| 4~6년      | 17일          |\\n| 7~9년      | 19일          |\\n| 10년 이상  | 20일          |  \\n제 9조 (출산 및 육아 휴가)\\n- 출산 휴가: 20일 (유급)\\n- 육아 휴가: 최대 1년, 무급 (단, 첫 3개월은 월급의 50% 지원)  \\n제 10조 (경조 휴가)\\n- 경조 휴가는 다음과 같이 지급한다.  \\n| 경조 사유     | 휴가 일수 |\\n|---------------|-----------|\\n| 본인 결혼     | 5일       |\\n| 자녀 결혼     | 2일       |\\n| 부모 사망     | 5일       |\\n| 배우자 사망   | 7일       |\\n| 조부모 사망   | 3일       |\\n| 자녀 출생     | 3일       |\\n| 본인 생일     | 1일       |\\n| 결혼 기념일   | 1일       |'),\n",
       " Document(id='bc850472-dcb7-4a2c-ba0e-10aa2213f55e', metadata={'chapter': '제 2 장 출장비 관리', 'section': '제 5장 경조사 지원', 'source': 'expense_management_guide', 'title': '경비 관리 가이드'}, page_content='#### 제 12조 (경조사 지원 기준)  \\n- 본인 결혼: 30만 원 지원\\n- 자녀 출생: 10만 원 지원\\n- 배우자 사망: 50만 원 지원\\n- 부모 사망: 30만 원 지원'),\n",
       " Document(id='7113f48b-7cf2-4bce-b4a7-9e0f2e4cdf24', metadata={'chapter': '제 3 장 휴가 및 유연 근무', 'section': '제 7조 (경조 휴가)', 'source': 'employee_benefits_and_welfare_guide', 'title': '직원 복리후생 및 복지 가이드'}, page_content='- 다음의 경조사 사유에 대해 휴가를 부여한다:  \\n| 경조 사유       | 휴가 일수 |\\n|----------------|---------|\\n| 본인 결혼       | 5일      |\\n| 자녀 결혼       | 2일      |\\n| 부모 사망       | 5일      |\\n| 배우자 사망     | 7일      |\\n| 조부모 사망     | 3일      |\\n| 자녀 출생       | 3일      |\\n| 본인 생일       | 1일      |\\n| 결혼 기념일     | 1일      |')]"
      ]
     },
     "execution_count": 6,
     "metadata": {},
     "output_type": "execute_result"
    }
   ],
   "source": [
    "retriver.invoke(\"본인 결혼식 경조휴가는 얼마인가요?\")"
   ]
  }
 ],
 "metadata": {
  "kernelspec": {
   "display_name": ".venv",
   "language": "python",
   "name": "python3"
  },
  "language_info": {
   "codemirror_mode": {
    "name": "ipython",
    "version": 3
   },
   "file_extension": ".py",
   "mimetype": "text/x-python",
   "name": "python",
   "nbconvert_exporter": "python",
   "pygments_lexer": "ipython3",
   "version": "3.12.2"
  }
 },
 "nbformat": 4,
 "nbformat_minor": 2
}
