{
 "cells": [
  {
   "cell_type": "code",
   "execution_count": 1,
   "metadata": {},
   "outputs": [
    {
     "data": {
      "text/plain": [
       "True"
      ]
     },
     "execution_count": 1,
     "metadata": {},
     "output_type": "execute_result"
    }
   ],
   "source": [
    "from dotenv import load_dotenv\n",
    "load_dotenv() # OPEN_API_KEY, PINECONE_API_KEY"
   ]
  },
  {
   "cell_type": "code",
   "execution_count": 2,
   "metadata": {},
   "outputs": [
    {
     "name": "stderr",
     "output_type": "stream",
     "text": [
      "c:\\Users\\user\\inflearn\\agent-use-cases\\.venv\\Lib\\site-packages\\tqdm\\auto.py:21: TqdmWarning: IProgress not found. Please update jupyter and ipywidgets. See https://ipywidgets.readthedocs.io/en/stable/user_install.html\n",
      "  from .autonotebook import tqdm as notebook_tqdm\n",
      "c:\\Users\\user\\inflearn\\agent-use-cases\\.venv\\Lib\\site-packages\\langchain_pinecone\\__init__.py:3: LangChainDeprecationWarning: As of langchain-core 0.3.0, LangChain uses pydantic v2 internally. The langchain_core.pydantic_v1 module was a compatibility shim for pydantic v1, and should no longer be used. Please update the code to import from Pydantic directly.\n",
      "\n",
      "For example, replace imports like: `from langchain_core.pydantic_v1 import BaseModel`\n",
      "with: `from pydantic import BaseModel`\n",
      "or the v1 compatibility namespace if you are working in a code base that has not been fully upgraded to pydantic 2 yet. \tfrom pydantic.v1 import BaseModel\n",
      "\n",
      "  from langchain_pinecone.vectorstores import Pinecone, PineconeVectorStore\n"
     ]
    }
   ],
   "source": [
    "from langchain_openai import ChatOpenAI, OpenAIEmbeddings\n",
    "\n",
    "llm = ChatOpenAI(model=\"gpt-4.1\", temperature=0)\n",
    "small_llm = ChatOpenAI(model=\"gpt-4.1-mini\", temperature=0)\n",
    "embeddings = OpenAIEmbeddings(model=\"text-embedding-3-large\")\n",
    "\n",
    "from langchain_pinecone import PineconeVectorStore\n",
    "vector_store = PineconeVectorStore(\n",
    "    index_name = \"inhouse-python-index\",\n",
    "    embedding = embeddings,\n",
    ")\n",
    "retriver = vector_store.as_retriever()"
   ]
  },
  {
   "cell_type": "code",
   "execution_count": 3,
   "metadata": {},
   "outputs": [],
   "source": [
    "from langgraph.graph import StateGraph, MessagesState\n",
    "\n",
    "graph_builder = StateGraph(MessagesState) # 그래프 빌더 생성"
   ]
  },
  {
   "cell_type": "code",
   "execution_count": 4,
   "metadata": {},
   "outputs": [],
   "source": [
    "from langchain_core.prompts import ChatPromptTemplate \n",
    "from langchain_core.output_parsers import StrOutputParser\n",
    "from langchain_core.tools import tool\n",
    "from langchain_core.documents import Document\n",
    "from pydantic import BaseModel\n",
    "\n",
    "class CheckFaqResponse(BaseModel):\n",
    "    is_in_faq: bool\n",
    "    context: list[Document]\n",
    "    \n",
    "@tool\n",
    "def check_faq(question: str) -> CheckFaqResponse:\n",
    "    \"\"\"Check if the question is in the FAQ.\n",
    "    If the question is in the FAQ, return the context of the question.\n",
    "    Otherwise, return an empty list.\n",
    "    \"\"\"\n",
    "    context = retriver.invoke(question, filter={\"source\": \"employee_benefits_and_welfare_faq\"})\n",
    "    check_faq_prompt = ChatPromptTemplate.from_messages([\n",
    "        (\"system\", \"\"\"You are a helpful assistant that checks if the question is in the FAQ. \n",
    "If the question is in the FAQ, return 'Yes'. Otherwise, return 'No'.\"\"\"),\n",
    "        (\"user\", \"Question: {question}\\nContext: {context}\"),\n",
    "    ])\n",
    "    check_faq_chain = check_faq_prompt | llm | StrOutputParser()\n",
    "    is_in_faq = check_faq_chain.invoke({\"question\": question, \"context\": context})\n",
    "    return {\"is_in_faq\": is_in_faq == \"Yes\", \"context\": context if is_in_faq == \"Yes\" else []}"
   ]
  },
  {
   "cell_type": "code",
   "execution_count": 5,
   "metadata": {},
   "outputs": [],
   "source": [
    "from langchain_core.tools import tool\n",
    "from langchain_core.prompts import ChatPromptTemplate \n",
    "from langchain_core.output_parsers import StrOutputParser\n",
    "\n",
    "@tool\n",
    "def get_document_name(question: str) -> str:\n",
    "    \"\"\"Get the document name based on the question.\"\"\"\n",
    "    determine_document_prompt = ChatPromptTemplate.from_messages(\n",
    "    [\n",
    "        (\"system\", \"\"\"You are a helpful assistant that determines the most relevant document name based on the user's question. \n",
    "Choose from the following document names:\n",
    "- delegation_of_authority\n",
    "- employee_benefits_and_welfare_faq\n",
    "- employee_benefits_and_welfare_guide\n",
    "- employee_handbook_and_hr_policy\n",
    "- expense_management_guide\n",
    "- it_support_guide\n",
    "- legal_and_compliance_policy\n",
    "\n",
    "Return ONLY the document name (e.g., 'it_support_guide').\n",
    "\n",
    "Examples:\n",
    "- If the question is about who can approve expenses, return 'delegation_of_authority' or 'expense_management_guide' as appropriate.\n",
    "- If the question is about employee benefits, return 'employee_benefits_and_welfare_guide'.\n",
    "- If the question is about HR policies or the employee handbook, return 'employee_handbook_and_hr_policy'.\n",
    "- If the question is about IT support or technical issues, return 'it_support_guide'.\n",
    "- If the question is about legal or compliance matters, return 'legal_and_compliance_policy'.\n",
    "- If the question is a frequently asked question about benefits, return 'employee_benefits_and_welfare_faq'.\n",
    "\"\"\"),\n",
    "        (\"user\", \"Question: {question}\"),\n",
    "    ]\n",
    ")\n",
    "    determine_document_chain = determine_document_prompt | llm | StrOutputParser()\n",
    "    document_name = determine_document_chain.invoke({\"question\": question})\n",
    "    return document_name"
   ]
  },
  {
   "cell_type": "code",
   "execution_count": 8,
   "metadata": {},
   "outputs": [],
   "source": [
    "from typing import List\n",
    "from langchain_core.tools.retriever import create_retriever_tool\n",
    "\n",
    "@tool\n",
    "def retriever_tool(question:str, document_name:str) -> List[Document]:\n",
    "    \"\"\"Retrieve the document based on the question and document name.\"\"\"\n",
    "    context = retriver.invoke(question, filter={\"source\": document_name})\n",
    "    return context\n",
    "\n",
    "# retriever_tool = create_retriever_tool(\n",
    "#     retriver, \n",
    "#     \"retrieve_document\",\n",
    "#     \"\"\"사내 문서 모음에서 정보를 찾아주는 도구입니다. 문서 이름을 기반으로 source에 필터링을 한 후에, page_contetn를 반환합니다.\"\"\"\n",
    "#     )"
   ]
  },
  {
   "cell_type": "code",
   "execution_count": 9,
   "metadata": {},
   "outputs": [],
   "source": [
    "from langgraph.prebuilt import create_react_agent\n",
    "\n",
    "agent = create_react_agent(\n",
    "    model = \"openai:gpt-4.1\",\n",
    "    tools = [retriever_tool, check_faq, get_document_name],\n",
    "    prompt = \"Use the tools provided to you to answer the user's question\",\n",
    ")\n"
   ]
  },
  {
   "cell_type": "code",
   "execution_count": 10,
   "metadata": {},
   "outputs": [
    {
     "data": {
      "image/png": "[encoded data removed]",
      "text/plain": [
       "<langgraph.graph.state.CompiledStateGraph object at 0x000002AB30C672F0>"
      ]
     },
     "execution_count": 10,
     "metadata": {},
     "output_type": "execute_result"
    }
   ],
   "source": [
    "agent"
   ]
  },
  {
   "cell_type": "code",
   "execution_count": 11,
   "metadata": {},
   "outputs": [
    {
     "name": "stdout",
     "output_type": "stream",
     "text": [
      "================================\u001b[1m Human Message \u001b[0m=================================\n",
      "\n",
      "사내 네트워크 담당자는 누구인가요?\n",
      "==================================\u001b[1m Ai Message \u001b[0m==================================\n",
      "Tool Calls:\n",
      "  check_faq (call_U3BT18586zeDS6KFFxPoWvkS)\n",
      " Call ID: call_U3BT18586zeDS6KFFxPoWvkS\n",
      "  Args:\n",
      "    question: 사내 네트워크 담당자는 누구인가요?\n",
      "=================================\u001b[1m Tool Message \u001b[0m=================================\n",
      "Name: check_faq\n",
      "\n",
      "{\"is_in_faq\": false, \"context\": []}\n",
      "==================================\u001b[1m Ai Message \u001b[0m==================================\n",
      "Tool Calls:\n",
      "  get_document_name (call_wuULrUZ7dEajs1Cprizlj28k)\n",
      " Call ID: call_wuULrUZ7dEajs1Cprizlj28k\n",
      "  Args:\n",
      "    question: 사내 네트워크 담당자는 누구인가요?\n",
      "=================================\u001b[1m Tool Message \u001b[0m=================================\n",
      "Name: get_document_name\n",
      "\n",
      "it_support_guide\n",
      "==================================\u001b[1m Ai Message \u001b[0m==================================\n",
      "Tool Calls:\n",
      "  retriever_tool (call_Hn6hWAoVAcxulaSXVCBSA8g0)\n",
      " Call ID: call_Hn6hWAoVAcxulaSXVCBSA8g0\n",
      "  Args:\n",
      "    question: 사내 네트워크 담당자는 누구인가요?\n",
      "    document_name: it_support_guide\n",
      "=================================\u001b[1m Tool Message \u001b[0m=================================\n",
      "Name: retriever_tool\n",
      "\n",
      "[Document(id='236ad967-f25a-4155-86e4-1978bdb586a5', metadata={'chapter': '제 1 장 IT 지원 기본 정책', 'section': '제 3 조 (IT 지원 담당자)', 'source': 'it_support_guide', 'title': 'IT 지원 가이드'}, page_content='- **네트워크 지원**\\n- 담당자: 김영수 (IT 네트워크 관리자)\\n- 이메일: kimys@company.com\\n- 전화번호: 02-1234-5680\\n- **계정 관리 및 보안**\\n- 담당자: 이민정 (보안 관리자)\\n- 이메일: leemj@company.com\\n- 전화번호: 02-1234-5681\\n- **소프트웨어 및 시스템 유지보수**\\n- 담당자: 박성호 (IT 시스템 관리자)\\n- 이메일: parksh@company.com\\n- 전화번호: 02-1234-5682  \\n---'), Document(id='9538a8ee-49ce-4a3e-b1e1-633518b0de65', metadata={'chapter': '제 3장 네트워크 및 VPN 접속', 'section': '제 6조 (사내 네트워크 접속)', 'source': 'it_support_guide', 'title': 'IT 지원 가이드'}, page_content='- 모든 사내 네트워크 접속은 인증된 사용자 계정으로만 가능하다.\\n- 외부 접속 시 VPN 사용이 필수이다.\\n- VPN 계정은 IT 지원팀을 통해 신청할 수 있다.'), Document(id='4eb75233-5345-4689-bffe-bcc0924ccd7d', metadata={'chapter': '제 12조 (데이터 보호)', 'source': 'it_support_guide', 'title': '제 6장 데이터 보안'}, page_content='- 모든 회사 데이터는 사내 서버 또는 클라우드에 안전하게 저장한다.\\n- 민감한 데이터는 암호화하여 저장한다.\\n- 기밀 자료는 사내 네트워크에서만 접근 가능하도록 설정한다.'), Document(id='8977c306-8b57-40e0-b106-aa015714de13', metadata={'chapter': '제 3장 네트워크 및 VPN 접속', 'section': '제 7조 (VPN 접속 오류 해결)', 'source': 'it_support_guide', 'title': 'IT 지원 가이드'}, page_content='- VPN 접속 불가 시 네트워크 상태 확인\\n- VPN 클라이언트 최신 버전 설치 확인\\n- 오류 지속 시 IT 지원팀에 문의')]\n",
      "==================================\u001b[1m Ai Message \u001b[0m==================================\n",
      "\n",
      "사내 네트워크 담당자는 다음과 같습니다.\n",
      "\n",
      "- 담당자: 김영수 (IT 네트워크 관리자)\n",
      "- 이메일: kimys@company.com\n",
      "- 전화번호: 02-1234-5680\n",
      "\n",
      "네트워크 관련 문의가 있으시면 위의 담당자에게 연락하시면 됩니다.\n"
     ]
    }
   ],
   "source": [
    "from langchain_core.messages import HumanMessage\n",
    "\n",
    "for chunk in agent.stream({\"messages\": [HumanMessage(content=\"사내 네트워크 담당자는 누구인가요?\")]}, stream_mode=\"values\"):\n",
    "    chunk['messages'][-1].pretty_print()"
   ]
  },
  {
   "cell_type": "code",
   "execution_count": 12,
   "metadata": {},
   "outputs": [
    {
     "name": "stdout",
     "output_type": "stream",
     "text": [
      "================================\u001b[1m Human Message \u001b[0m=================================\n",
      "\n",
      "출산휴가는 얼마나 보장되나요?\n",
      "==================================\u001b[1m Ai Message \u001b[0m==================================\n",
      "Tool Calls:\n",
      "  check_faq (call_rMFlNRgWFYt6obE5dH7vH6YC)\n",
      " Call ID: call_rMFlNRgWFYt6obE5dH7vH6YC\n",
      "  Args:\n",
      "    question: 출산휴가는 얼마나 보장되나요?\n",
      "=================================\u001b[1m Tool Message \u001b[0m=================================\n",
      "Name: check_faq\n",
      "\n",
      "{'is_in_faq': True, 'context': [Document(id='20dbac37-458b-4e16-ae5a-9589defdfbe3', metadata={'chapter': '2. 출산 및 육아 휴가 관련', 'source': 'employee_benefits_and_welfare_faq', 'title': '직원 복리후생 및 복지 FAQ'}, page_content='**Q4: 출산 휴가는 언제부터 사용할 수 있나요?**\\n- A: 출산 예정일 전후로 자유롭게 사용할 수 있으며, 최대 20일 유급으로 제공됩니다.  \\n**Q5: 육아 휴가는 누구에게 적용되나요?**\\n- A: 모든 직원이 신청할 수 있으며, 최대 1년까지 사용할 수 있으며, 첫 3개월은 급여의 50%가 지급됩니다.  \\n---'), Document(id='322cd6f0-215d-4dac-af1d-7186c9bad066', metadata={'chapter': '3. 경조 휴가 및 지원', 'source': 'employee_benefits_and_welfare_faq', 'title': '직원 복리후생 및 복지 FAQ'}, page_content='**Q6: 경조 휴가는 어떤 경우에 사용할 수 있나요?**\\n- A: 본인 결혼, 자녀 출생, 부모/배우자 사망 등 경조사 사유에 따라 휴가가 부여됩니다.  \\n**Q7: 경조사 지원금은 어떻게 신청하나요?**\\n- A: HR 시스템을 통해 신청할 수 있으며, 지원금은 지정된 계좌로 지급됩니다.  \\n---'), Document(id='785026b1-46f1-49ca-8910-c7bbbcf985b0', metadata={'chapter': '1. 연차 유급 휴가 관련', 'source': 'employee_benefits_and_welfare_faq', 'title': '직원 복리후생 및 복지 FAQ'}, page_content='**Q1: 연차 휴가는 어떻게 사용하나요?**\\n- A: 연차 휴가는 본인 승인을 통해 자유롭게 사용할 수 있으며, 사내 HR 시스템에서 신청 가능합니다.  \\n**Q2: 연차는 어떻게 계산되나요?**\\n- A: 근속 연수에 따라 차등 지급되며, 1년 미만은 월 1일, 1~3년은 15일, 10년 이상은 20일입니다.  \\n**Q3: 미사용 연차는 어떻게 처리되나요?**\\n- A: 연차는 해당 연도에 사용해야 하며, 이월은 불가합니다.  \\n---'), Document(id='c658264a-a07e-4300-bc15-b918bfceba8d', metadata={'chapter': '3. 경조 휴가 및 지원', 'section': '7. 문의 및 기타', 'source': 'employee_benefits_and_welfare_faq', 'title': '직원 복리후생 및 복지 FAQ'}, page_content='**Q14: 복리후생 관련 문의는 어디로 하면 되나요?**\\n- A: HR 담당자 김지현 (이메일: kimjh@company.com, 전화번호: 02-1234-5678)에게 문의 가능합니다.')]}\n",
      "==================================\u001b[1m Ai Message \u001b[0m==================================\n",
      "\n",
      "출산휴가는 출산 예정일 전후로 자유롭게 사용할 수 있으며, 최대 20일 유급으로 보장됩니다. 필요에 따라 본인의 상황에 맞게 사용할 수 있습니다.\n",
      "\n",
      "추가 문의가 있으시면 HR 담당자에게 연락하시면 됩니다.\n"
     ]
    }
   ],
   "source": [
    "for chunk in agent.stream({\"messages\": [HumanMessage(content=\"출산휴가는 얼마나 보장되나요?\")]}, stream_mode=\"values\"):\n",
    "    chunk['messages'][-1].pretty_print()"
   ]
  }
 ],
 "metadata": {
  "kernelspec": {
   "display_name": ".venv",
   "language": "python",
   "name": "python3"
  },
  "language_info": {
   "codemirror_mode": {
    "name": "ipython",
    "version": 3
   },
   "file_extension": ".py",
   "mimetype": "text/x-python",
   "name": "python",
   "nbconvert_exporter": "python",
   "pygments_lexer": "ipython3",
   "version": "3.12.2"
  }
 },
 "nbformat": 4,
 "nbformat_minor": 2
}
